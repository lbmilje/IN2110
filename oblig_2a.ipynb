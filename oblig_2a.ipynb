{
 "cells": [
  {
   "cell_type": "markdown",
   "metadata": {},
   "source": [
    "# IN2110 Oblig 2a\n",
    "## Oppgave 2 og 3\n",
    "Etter at du har trent modellen fra kommandolinja, gjøres resten av programmeringen, rapporteringen og besvarelse ellers i dette dokumentet. Lag celler for markdown og kode etter behov."
   ]
  },
  {
   "cell_type": "code",
   "execution_count": 24,
   "metadata": {},
   "outputs": [
    {
     "name": "stdout",
     "output_type": "stream",
     "text": [
      "spaCy version: 3.7.2\n"
     ]
    }
   ],
   "source": [
    "import spacy\n",
    "from helpers.conllu import ConlluDoc\n",
    "print(\"spaCy version:\",spacy.__version__) \n"
   ]
  },
  {
   "cell_type": "code",
   "execution_count": 25,
   "metadata": {},
   "outputs": [],
   "source": [
    "nb = spacy.load(\"output/model-best\")\n",
    "# lese inn\n",
    "conllu_dev = ConlluDoc.from_file(\"no_bokmaal-ud-dev.conllu\")\n",
    "# konvertere til spaCy-objekter, gull-dataene for dev-settet vårt\n",
    "# liste med doc-objekter som hver representerer en setning \n",
    "# hvert doc-objekt har en liste med hode, indeks og dependensrelasjon (head, i, dep_)\n",
    "dev_docs = conllu_dev.to_spacy(nb)\n",
    "# versjon uten labels\n",
    "dev_docs_unlabeled = conllu_dev.to_spacy(nb, keep_labels=False)"
   ]
  },
  {
   "cell_type": "code",
   "execution_count": 26,
   "metadata": {},
   "outputs": [
    {
     "name": "stdout",
     "output_type": "stream",
     "text": [
      "Dommer Finn Eilertsen avstår, selvfølgelig bevisst, fra å «sette ord på» det inntrykk retten for sitt vedkommende måtte ha dannet seg av de handlinger retten finner bevist og av lovovertrederen. \n",
      "Antall tokens i første setning: 35\n",
      "Tekst: Dommer, Indeks: 0, Hode: Finn, Dependensrelasjon: nmod\n",
      "Tekst: Finn, Indeks: 1, Hode: avstår, Dependensrelasjon: nsubj\n",
      "Tekst: Eilertsen, Indeks: 2, Hode: Finn, Dependensrelasjon: flat:name\n",
      "Tekst: avstår, Indeks: 3, Hode: avstår, Dependensrelasjon: root\n",
      "Tekst: ,, Indeks: 4, Hode: avstår, Dependensrelasjon: punct\n",
      "Tekst: selvfølgelig, Indeks: 5, Hode: bevisst, Dependensrelasjon: advmod\n",
      "Tekst: bevisst, Indeks: 6, Hode: avstår, Dependensrelasjon: advmod\n",
      "Tekst: ,, Indeks: 7, Hode: bevisst, Dependensrelasjon: punct\n",
      "Tekst: fra, Indeks: 8, Hode: sette, Dependensrelasjon: mark\n",
      "Tekst: å, Indeks: 9, Hode: sette, Dependensrelasjon: mark\n",
      "Tekst: «, Indeks: 10, Hode: sette, Dependensrelasjon: punct\n",
      "Tekst: sette, Indeks: 11, Hode: avstår, Dependensrelasjon: advcl\n",
      "Tekst: ord, Indeks: 12, Hode: sette, Dependensrelasjon: obj\n",
      "Tekst: på, Indeks: 13, Hode: inntrykk, Dependensrelasjon: case\n",
      "Tekst: », Indeks: 14, Hode: sette, Dependensrelasjon: punct\n",
      "Tekst: det, Indeks: 15, Hode: inntrykk, Dependensrelasjon: det\n",
      "Tekst: inntrykk, Indeks: 16, Hode: sette, Dependensrelasjon: obl\n",
      "Tekst: retten, Indeks: 17, Hode: dannet, Dependensrelasjon: nsubj\n",
      "Tekst: for, Indeks: 18, Hode: vedkommende, Dependensrelasjon: case\n",
      "Tekst: sitt, Indeks: 19, Hode: vedkommende, Dependensrelasjon: nmod\n",
      "Tekst: vedkommende, Indeks: 20, Hode: dannet, Dependensrelasjon: advmod\n",
      "Tekst: måtte, Indeks: 21, Hode: dannet, Dependensrelasjon: aux\n",
      "Tekst: ha, Indeks: 22, Hode: dannet, Dependensrelasjon: aux\n",
      "Tekst: dannet, Indeks: 23, Hode: inntrykk, Dependensrelasjon: acl:relcl\n",
      "Tekst: seg, Indeks: 24, Hode: dannet, Dependensrelasjon: iobj\n",
      "Tekst: av, Indeks: 25, Hode: handlinger, Dependensrelasjon: case\n",
      "Tekst: de, Indeks: 26, Hode: handlinger, Dependensrelasjon: det\n",
      "Tekst: handlinger, Indeks: 27, Hode: dannet, Dependensrelasjon: obl\n",
      "Tekst: retten, Indeks: 28, Hode: finner, Dependensrelasjon: nsubj\n",
      "Tekst: finner, Indeks: 29, Hode: handlinger, Dependensrelasjon: acl:relcl\n",
      "Tekst: bevist, Indeks: 30, Hode: finner, Dependensrelasjon: xcomp\n",
      "Tekst: og, Indeks: 31, Hode: lovovertrederen, Dependensrelasjon: cc\n",
      "Tekst: av, Indeks: 32, Hode: lovovertrederen, Dependensrelasjon: case\n",
      "Tekst: lovovertrederen, Indeks: 33, Hode: handlinger, Dependensrelasjon: conj\n",
      "Tekst: ., Indeks: 34, Hode: avstår, Dependensrelasjon: punct\n"
     ]
    }
   ],
   "source": [
    "# For å se hvordan dokumentene ser ut\n",
    "print(dev_docs[0])\n",
    "if dev_docs:\n",
    "    første_doc = dev_docs[0]\n",
    "    tokens_i_første_doc = list(første_doc)  # Konverterer til en liste for enkelhets skyld\n",
    "\n",
    "    print(f\"Antall tokens i første setning: {len(tokens_i_første_doc)}\")\n",
    "    for token in tokens_i_første_doc:\n",
    "        print(f\"Tekst: {token.text}, Indeks: {token.i}, Hode: {token.head.text}, Dependensrelasjon: {token.dep_}\")\n",
    "else:\n",
    "    print(\"dev_docs er tom.\")"
   ]
  },
  {
   "cell_type": "code",
   "execution_count": 27,
   "metadata": {},
   "outputs": [
    {
     "data": {
      "text/plain": [
       "Thomassen er på vei til sin neste gjerning. "
      ]
     },
     "execution_count": 27,
     "metadata": {},
     "output_type": "execute_result"
    }
   ],
   "source": [
    "doc = dev_docs_unlabeled[5] \n",
    "doc\n",
    "#doc.has_annotation(\"DEP\")\n",
    "#doc = nb(doc)\n",
    "#doc.has_annotation(\"DEP\")"
   ]
  },
  {
   "cell_type": "code",
   "execution_count": 28,
   "metadata": {},
   "outputs": [],
   "source": [
    "# funksjon som tar imot en liste av spacy doc-objekter og parser disse\n",
    "# returnerer en liste med de parsede objektene, disse blir prediksjonene? \n",
    "def parse_docs(spacy_list):\n",
    "    parsed_docs = []\n",
    "    for doc in spacy_list:\n",
    "        parsed_docs.append(nb(doc))\n",
    "        \n",
    "    return parsed_docs\n",
    "\n",
    "#parse_docs(dev_docs_unlabeled)\n",
    "\n"
   ]
  },
  {
   "cell_type": "code",
   "execution_count": 36,
   "metadata": {},
   "outputs": [],
   "source": [
    "\n",
    "def attachment_score(true, pred):\n",
    "    \"\"\"Tar inn to lister av doc der liste nr 2 har predikert depedens. Finner andel korrekte head (UAS), og korrekte head+dependensrelasjoner (LAS)\n",
    "    Merk at depedensrelasjonene som SpaCy estimerer har \"ROOT\" med store bokstaver, mens våre data har \"root\" med små.\n",
    "    Dette er den samme relasjonen, og skal teller som korrekt estimert \"\"\"\n",
    "    #TODO\n",
    "    correct_head = 0\n",
    "    correct_deprel = 0\n",
    "    total_tokens = 0\n",
    "\n",
    "    #sjekke at de er like lange \n",
    "    if len(true) != len(pred):\n",
    "        raise ValueError(\"Listene 'true' og 'pred' må ha samme lengde (samme antall dokumenter).\")\n",
    "\n",
    "\n",
    "    for gold_doc, pred_doc in zip(true, pred): \n",
    "        if len(gold_doc) != len(pred_doc):\n",
    "            print(f\"Advarsel: Antall tokens er forskjellig i gullstandarddokumentet og det predikerte dokumentet. Hopper over dette dokumentet.\")\n",
    "            continue\n",
    "\n",
    "        for gold_token, pred_token in zip(gold_doc, pred_doc):\n",
    "            total_tokens += 1\n",
    "            if gold_token.head.i == pred_token.head.i: \n",
    "                correct_head += 1\n",
    "\n",
    "                #dependensrelasjon \n",
    "                gold_dep = gold_token.dep_.lower()\n",
    "                pred_dep = pred_token.dep_.lower()\n",
    "\n",
    "                if gold_dep == pred_dep:\n",
    "                    correct_deprel += 1\n",
    "    print(\"Correct head count: \", correct_head)\n",
    "    print(\"Correct deprel: \", correct_deprel)\n",
    "    print(\"Number tokens: \", total_tokens)\n",
    "\n",
    "    uas = correct_head / total_tokens if total_tokens > 0 else 0.0\n",
    "    # kun correct_deprel siden vi sjekker dette når vi sjekker korrekte hoder \n",
    "    las = correct_deprel / total_tokens if total_tokens > 0 else 0.0\n",
    "\n",
    "    return uas, las\n"
   ]
  },
  {
   "cell_type": "code",
   "execution_count": 30,
   "metadata": {},
   "outputs": [],
   "source": [
    "#nynorsk trebank\n",
    "conllu_nynorsk = ConlluDoc.from_file(\"no_nynorsk-ud-dev.conllu\")\n",
    "nn_docs = conllu_nynorsk.to_spacy(nb)\n",
    "nn_docs_unlabeled = conllu_nynorsk.to_spacy(nb, keep_labels=False)\n",
    "\n",
    "#nynorsklia trebank \n",
    "conllu_lia = ConlluDoc.from_file(\"no_nynorsklia-ud-dev.conllu\")\n",
    "lia_docs = conllu_lia.to_spacy(nb)\n",
    "lia_docs_unlabeled = conllu_lia.to_spacy(nb, keep_labels=False)"
   ]
  },
  {
   "cell_type": "code",
   "execution_count": 37,
   "metadata": {},
   "outputs": [
    {
     "name": "stdout",
     "output_type": "stream",
     "text": [
      "\n",
      "-------- BOKMAAL --------\n",
      "Correct head count:  31912\n",
      "Correct deprel:  30745\n",
      "Number tokens:  36369\n",
      "UAS for bokmaal:  0.8774505760400341\n",
      "LAS for bokmaal:  0.8453628089856746\n",
      "\n",
      "-------- NYNORSK --------\n",
      "Correct head count:  20395\n",
      "Correct deprel:  17879\n",
      "Number tokens:  31250\n",
      "UAS for nynorsk:  0.65264\n",
      "LAS for nynorsk:  0.572128\n",
      "\n",
      "-------- TALESPRAAK --------\n",
      "Correct head count:  4660\n",
      "Correct deprel:  3565\n",
      "Number tokens:  10163\n",
      "UAS for talespraak:  0.45852602577978946\n",
      "LAS for talespraak:  0.350782249335826\n"
     ]
    }
   ],
   "source": [
    "parsed = parse_docs(dev_docs_unlabeled)\n",
    "parsed_nn = parse_docs(nn_docs_unlabeled)\n",
    "parsed_lia = parse_docs(lia_docs_unlabeled)\n",
    "\n",
    "print(\"\\n-------- BOKMAAL --------\")\n",
    "uas, las = attachment_score(dev_docs, parsed)\n",
    "print(\"UAS for bokmaal: \", uas)\n",
    "print(\"LAS for bokmaal: \", las)\n",
    "\n",
    "print(\"\\n-------- NYNORSK --------\")\n",
    "nn_uas, nn_las = attachment_score(nn_docs, nn_docs_unlabeled)\n",
    "print(\"UAS for nynorsk: \", nn_uas)\n",
    "print(\"LAS for nynorsk: \", nn_las)\n",
    "\n",
    "print(\"\\n-------- TALESPRAAK --------\")\n",
    "lia_uas, lia_las = attachment_score(lia_docs, lia_docs_unlabeled)\n",
    "print(\"UAS for talespraak: \", lia_uas)\n",
    "print(\"LAS for talespraak: \", lia_las)\n",
    "\n"
   ]
  },
  {
   "cell_type": "markdown",
   "metadata": {},
   "source": [
    "| Spraak     |   UAS     |   LAS    |\n",
    "| ---------  | --------- | ---------|\n",
    "| Bokmaal    | 0.877     | 0.845    |\n",
    "| Nynorsk    | 0.652     | 0.572    |\n",
    "| Talespraak | 0.458     | 0.350    |\n",
    "\n",
    "\n",
    "Her ser vi at vi får betydelig høyere score på bokmål-trebanken enn de to andre. Nå vi ser på antall ord i trebankene, ser vi også at bokmål og nynorsk har betydelig mer data enn talespråk/LIA-banken. Dette betyr at den har mindre data å trene på, og kan derfor være grunnen til at den får så lav score sammenlignet med de andre. Det er også naturlig at LAS får lavere score enn UAS, fordi i LAS så deler vi med en lavere tall. "
   ]
  }
 ],
 "metadata": {
  "kernelspec": {
   "display_name": "Python 3.9.21 ('in2110_v25')",
   "language": "python",
   "name": "python3"
  },
  "language_info": {
   "codemirror_mode": {
    "name": "ipython",
    "version": 3
   },
   "file_extension": ".py",
   "mimetype": "text/x-python",
   "name": "python",
   "nbconvert_exporter": "python",
   "pygments_lexer": "ipython3",
   "version": "3.9.21"
  },
  "vscode": {
   "interpreter": {
    "hash": "83eb2a4f7e67e62baed6961ed7eb72c47602147d34a6d41bc4abaf934ea680f3"
   }
  }
 },
 "nbformat": 4,
 "nbformat_minor": 4
}
